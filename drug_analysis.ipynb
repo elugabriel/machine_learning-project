{
 "cells": [
  {
   "cell_type": "code",
   "execution_count": 1,
   "metadata": {},
   "outputs": [],
   "source": [
    "import pandas as pd\n",
    "import numpy as np\n",
    "import matplotlib.pyplot as plt\n",
    "from numpy import unique\n",
    "import seaborn as sns\n",
    "from sklearn.feature_selection import f_classif\n",
    "from sklearn.model_selection import train_test_split\n",
    "from sklearn.feature_selection import SelectKBest"
   ]
  },
  {
   "cell_type": "code",
   "execution_count": 2,
   "metadata": {},
   "outputs": [
    {
     "data": {
      "text/html": [
       "<div>\n",
       "<style scoped>\n",
       "    .dataframe tbody tr th:only-of-type {\n",
       "        vertical-align: middle;\n",
       "    }\n",
       "\n",
       "    .dataframe tbody tr th {\n",
       "        vertical-align: top;\n",
       "    }\n",
       "\n",
       "    .dataframe thead th {\n",
       "        text-align: right;\n",
       "    }\n",
       "</style>\n",
       "<table border=\"1\" class=\"dataframe\">\n",
       "  <thead>\n",
       "    <tr style=\"text-align: right;\">\n",
       "      <th></th>\n",
       "      <th>No.</th>\n",
       "      <th>Name</th>\n",
       "      <th>SpMin1_Bhs</th>\n",
       "      <th>C2SP2</th>\n",
       "      <th>nssO</th>\n",
       "      <th>ETA_BetaP_ns_d</th>\n",
       "      <th>MDEC_24</th>\n",
       "      <th>AVP_5</th>\n",
       "      <th>MATS4v</th>\n",
       "      <th>AATS6p</th>\n",
       "      <th>...</th>\n",
       "      <th>SpMax4_Bhe</th>\n",
       "      <th>GATS2m</th>\n",
       "      <th>GATS2p</th>\n",
       "      <th>ETA_EtaP_F</th>\n",
       "      <th>AATS2i</th>\n",
       "      <th>VC_6</th>\n",
       "      <th>Status</th>\n",
       "      <th>Lable(exp.)</th>\n",
       "      <th>Lable(SVM)</th>\n",
       "      <th>Lable(GRNN)</th>\n",
       "    </tr>\n",
       "  </thead>\n",
       "  <tbody>\n",
       "    <tr>\n",
       "      <th>0</th>\n",
       "      <td>1</td>\n",
       "      <td>CHEMBL219517</td>\n",
       "      <td>2.036093</td>\n",
       "      <td>10</td>\n",
       "      <td>1</td>\n",
       "      <td>0.03571</td>\n",
       "      <td>0.000000</td>\n",
       "      <td>0.023095</td>\n",
       "      <td>-0.004576</td>\n",
       "      <td>1.413029</td>\n",
       "      <td>...</td>\n",
       "      <td>3.492063</td>\n",
       "      <td>0.752719</td>\n",
       "      <td>0.773633</td>\n",
       "      <td>0.98841</td>\n",
       "      <td>152.992905</td>\n",
       "      <td>0.000000</td>\n",
       "      <td>Inactive</td>\n",
       "      <td>-1</td>\n",
       "      <td>-1</td>\n",
       "      <td>-1</td>\n",
       "    </tr>\n",
       "    <tr>\n",
       "      <th>1</th>\n",
       "      <td>2</td>\n",
       "      <td>CHEMBL380797</td>\n",
       "      <td>2.155860</td>\n",
       "      <td>1</td>\n",
       "      <td>0</td>\n",
       "      <td>0.00000</td>\n",
       "      <td>19.761299</td>\n",
       "      <td>0.045320</td>\n",
       "      <td>-0.123684</td>\n",
       "      <td>1.009979</td>\n",
       "      <td>...</td>\n",
       "      <td>3.500519</td>\n",
       "      <td>0.853899</td>\n",
       "      <td>0.979989</td>\n",
       "      <td>0.29894</td>\n",
       "      <td>150.066076</td>\n",
       "      <td>0.608102</td>\n",
       "      <td>Inactive</td>\n",
       "      <td>-1</td>\n",
       "      <td>-1</td>\n",
       "      <td>-1</td>\n",
       "    </tr>\n",
       "    <tr>\n",
       "      <th>2</th>\n",
       "      <td>3</td>\n",
       "      <td>CHEMBL591362</td>\n",
       "      <td>2.001066</td>\n",
       "      <td>30</td>\n",
       "      <td>0</td>\n",
       "      <td>0.00000</td>\n",
       "      <td>4.897030</td>\n",
       "      <td>0.018730</td>\n",
       "      <td>0.047804</td>\n",
       "      <td>1.604455</td>\n",
       "      <td>...</td>\n",
       "      <td>3.826618</td>\n",
       "      <td>0.790574</td>\n",
       "      <td>1.034555</td>\n",
       "      <td>1.43473</td>\n",
       "      <td>149.285725</td>\n",
       "      <td>0.038891</td>\n",
       "      <td>Inactive</td>\n",
       "      <td>-1</td>\n",
       "      <td>-1</td>\n",
       "      <td>-1</td>\n",
       "    </tr>\n",
       "    <tr>\n",
       "      <th>3</th>\n",
       "      <td>4</td>\n",
       "      <td>CHEMBL465546</td>\n",
       "      <td>1.965794</td>\n",
       "      <td>0</td>\n",
       "      <td>10</td>\n",
       "      <td>0.00000</td>\n",
       "      <td>6.959624</td>\n",
       "      <td>0.032025</td>\n",
       "      <td>-0.108514</td>\n",
       "      <td>0.948248</td>\n",
       "      <td>...</td>\n",
       "      <td>3.587471</td>\n",
       "      <td>0.870408</td>\n",
       "      <td>1.156612</td>\n",
       "      <td>0.42979</td>\n",
       "      <td>154.429781</td>\n",
       "      <td>0.077245</td>\n",
       "      <td>Inactive</td>\n",
       "      <td>-1</td>\n",
       "      <td>-1</td>\n",
       "      <td>-1</td>\n",
       "    </tr>\n",
       "    <tr>\n",
       "      <th>4</th>\n",
       "      <td>5</td>\n",
       "      <td>CHEMBL2377306</td>\n",
       "      <td>1.811866</td>\n",
       "      <td>1</td>\n",
       "      <td>1</td>\n",
       "      <td>0.00000</td>\n",
       "      <td>0.000000</td>\n",
       "      <td>0.022625</td>\n",
       "      <td>-0.182215</td>\n",
       "      <td>0.802083</td>\n",
       "      <td>...</td>\n",
       "      <td>3.106337</td>\n",
       "      <td>0.773252</td>\n",
       "      <td>0.823627</td>\n",
       "      <td>0.77017</td>\n",
       "      <td>164.701153</td>\n",
       "      <td>0.000000</td>\n",
       "      <td>Inactive</td>\n",
       "      <td>-1</td>\n",
       "      <td>-1</td>\n",
       "      <td>-1</td>\n",
       "    </tr>\n",
       "  </tbody>\n",
       "</table>\n",
       "<p>5 rows × 21 columns</p>\n",
       "</div>"
      ],
      "text/plain": [
       "   No.           Name  SpMin1_Bhs  C2SP2  nssO  ETA_BetaP_ns_d    MDEC_24  \\\n",
       "0    1   CHEMBL219517    2.036093     10     1         0.03571   0.000000   \n",
       "1    2   CHEMBL380797    2.155860      1     0         0.00000  19.761299   \n",
       "2    3   CHEMBL591362    2.001066     30     0         0.00000   4.897030   \n",
       "3    4   CHEMBL465546    1.965794      0    10         0.00000   6.959624   \n",
       "4    5  CHEMBL2377306    1.811866      1     1         0.00000   0.000000   \n",
       "\n",
       "      AVP_5    MATS4v    AATS6p  ...  SpMax4_Bhe    GATS2m    GATS2p  \\\n",
       "0  0.023095 -0.004576  1.413029  ...    3.492063  0.752719  0.773633   \n",
       "1  0.045320 -0.123684  1.009979  ...    3.500519  0.853899  0.979989   \n",
       "2  0.018730  0.047804  1.604455  ...    3.826618  0.790574  1.034555   \n",
       "3  0.032025 -0.108514  0.948248  ...    3.587471  0.870408  1.156612   \n",
       "4  0.022625 -0.182215  0.802083  ...    3.106337  0.773252  0.823627   \n",
       "\n",
       "   ETA_EtaP_F      AATS2i      VC_6    Status Lable(exp.)  Lable(SVM)  \\\n",
       "0     0.98841  152.992905  0.000000  Inactive          -1          -1   \n",
       "1     0.29894  150.066076  0.608102  Inactive          -1          -1   \n",
       "2     1.43473  149.285725  0.038891  Inactive          -1          -1   \n",
       "3     0.42979  154.429781  0.077245  Inactive          -1          -1   \n",
       "4     0.77017  164.701153  0.000000  Inactive          -1          -1   \n",
       "\n",
       "   Lable(GRNN)  \n",
       "0           -1  \n",
       "1           -1  \n",
       "2           -1  \n",
       "3           -1  \n",
       "4           -1  \n",
       "\n",
       "[5 rows x 21 columns]"
      ]
     },
     "execution_count": 2,
     "metadata": {},
     "output_type": "execute_result"
    }
   ],
   "source": [
    "data = pd.read_csv('drug.csv')\n",
    "data.head()"
   ]
  },
  {
   "cell_type": "code",
   "execution_count": 3,
   "metadata": {},
   "outputs": [
    {
     "data": {
      "text/html": [
       "<div>\n",
       "<style scoped>\n",
       "    .dataframe tbody tr th:only-of-type {\n",
       "        vertical-align: middle;\n",
       "    }\n",
       "\n",
       "    .dataframe tbody tr th {\n",
       "        vertical-align: top;\n",
       "    }\n",
       "\n",
       "    .dataframe thead th {\n",
       "        text-align: right;\n",
       "    }\n",
       "</style>\n",
       "<table border=\"1\" class=\"dataframe\">\n",
       "  <thead>\n",
       "    <tr style=\"text-align: right;\">\n",
       "      <th></th>\n",
       "      <th>SpMin1_Bhs</th>\n",
       "      <th>C2SP2</th>\n",
       "      <th>nssO</th>\n",
       "      <th>ETA_BetaP_ns_d</th>\n",
       "      <th>MDEC_24</th>\n",
       "      <th>AVP_5</th>\n",
       "      <th>MATS4v</th>\n",
       "      <th>AATS6p</th>\n",
       "      <th>SpMax3_Bhi</th>\n",
       "      <th>SpMax4_Bhe</th>\n",
       "      <th>GATS2m</th>\n",
       "      <th>GATS2p</th>\n",
       "      <th>ETA_EtaP_F</th>\n",
       "      <th>AATS2i</th>\n",
       "      <th>VC_6</th>\n",
       "      <th>Lable(exp.)</th>\n",
       "    </tr>\n",
       "  </thead>\n",
       "  <tbody>\n",
       "    <tr>\n",
       "      <th>0</th>\n",
       "      <td>2.036093</td>\n",
       "      <td>10</td>\n",
       "      <td>1</td>\n",
       "      <td>0.03571</td>\n",
       "      <td>0.000000</td>\n",
       "      <td>0.023095</td>\n",
       "      <td>-0.004576</td>\n",
       "      <td>1.413029</td>\n",
       "      <td>3.775860</td>\n",
       "      <td>3.492063</td>\n",
       "      <td>0.752719</td>\n",
       "      <td>0.773633</td>\n",
       "      <td>0.98841</td>\n",
       "      <td>152.992905</td>\n",
       "      <td>0.000000</td>\n",
       "      <td>-1</td>\n",
       "    </tr>\n",
       "    <tr>\n",
       "      <th>1</th>\n",
       "      <td>2.155860</td>\n",
       "      <td>1</td>\n",
       "      <td>0</td>\n",
       "      <td>0.00000</td>\n",
       "      <td>19.761299</td>\n",
       "      <td>0.045320</td>\n",
       "      <td>-0.123684</td>\n",
       "      <td>1.009979</td>\n",
       "      <td>3.741990</td>\n",
       "      <td>3.500519</td>\n",
       "      <td>0.853899</td>\n",
       "      <td>0.979989</td>\n",
       "      <td>0.29894</td>\n",
       "      <td>150.066076</td>\n",
       "      <td>0.608102</td>\n",
       "      <td>-1</td>\n",
       "    </tr>\n",
       "    <tr>\n",
       "      <th>2</th>\n",
       "      <td>2.001066</td>\n",
       "      <td>30</td>\n",
       "      <td>0</td>\n",
       "      <td>0.00000</td>\n",
       "      <td>4.897030</td>\n",
       "      <td>0.018730</td>\n",
       "      <td>0.047804</td>\n",
       "      <td>1.604455</td>\n",
       "      <td>3.865253</td>\n",
       "      <td>3.826618</td>\n",
       "      <td>0.790574</td>\n",
       "      <td>1.034555</td>\n",
       "      <td>1.43473</td>\n",
       "      <td>149.285725</td>\n",
       "      <td>0.038891</td>\n",
       "      <td>-1</td>\n",
       "    </tr>\n",
       "    <tr>\n",
       "      <th>3</th>\n",
       "      <td>1.965794</td>\n",
       "      <td>0</td>\n",
       "      <td>10</td>\n",
       "      <td>0.00000</td>\n",
       "      <td>6.959624</td>\n",
       "      <td>0.032025</td>\n",
       "      <td>-0.108514</td>\n",
       "      <td>0.948248</td>\n",
       "      <td>3.650220</td>\n",
       "      <td>3.587471</td>\n",
       "      <td>0.870408</td>\n",
       "      <td>1.156612</td>\n",
       "      <td>0.42979</td>\n",
       "      <td>154.429781</td>\n",
       "      <td>0.077245</td>\n",
       "      <td>-1</td>\n",
       "    </tr>\n",
       "    <tr>\n",
       "      <th>4</th>\n",
       "      <td>1.811866</td>\n",
       "      <td>1</td>\n",
       "      <td>1</td>\n",
       "      <td>0.00000</td>\n",
       "      <td>0.000000</td>\n",
       "      <td>0.022625</td>\n",
       "      <td>-0.182215</td>\n",
       "      <td>0.802083</td>\n",
       "      <td>3.227147</td>\n",
       "      <td>3.106337</td>\n",
       "      <td>0.773252</td>\n",
       "      <td>0.823627</td>\n",
       "      <td>0.77017</td>\n",
       "      <td>164.701153</td>\n",
       "      <td>0.000000</td>\n",
       "      <td>-1</td>\n",
       "    </tr>\n",
       "    <tr>\n",
       "      <th>...</th>\n",
       "      <td>...</td>\n",
       "      <td>...</td>\n",
       "      <td>...</td>\n",
       "      <td>...</td>\n",
       "      <td>...</td>\n",
       "      <td>...</td>\n",
       "      <td>...</td>\n",
       "      <td>...</td>\n",
       "      <td>...</td>\n",
       "      <td>...</td>\n",
       "      <td>...</td>\n",
       "      <td>...</td>\n",
       "      <td>...</td>\n",
       "      <td>...</td>\n",
       "      <td>...</td>\n",
       "      <td>...</td>\n",
       "    </tr>\n",
       "    <tr>\n",
       "      <th>4745</th>\n",
       "      <td>2.101252</td>\n",
       "      <td>1</td>\n",
       "      <td>1</td>\n",
       "      <td>0.00000</td>\n",
       "      <td>10.300696</td>\n",
       "      <td>0.049126</td>\n",
       "      <td>-0.075119</td>\n",
       "      <td>0.857048</td>\n",
       "      <td>3.543815</td>\n",
       "      <td>3.327318</td>\n",
       "      <td>0.906644</td>\n",
       "      <td>1.083712</td>\n",
       "      <td>0.34654</td>\n",
       "      <td>152.032762</td>\n",
       "      <td>0.178324</td>\n",
       "      <td>1</td>\n",
       "    </tr>\n",
       "    <tr>\n",
       "      <th>4746</th>\n",
       "      <td>2.145873</td>\n",
       "      <td>3</td>\n",
       "      <td>1</td>\n",
       "      <td>0.03571</td>\n",
       "      <td>4.889648</td>\n",
       "      <td>0.032815</td>\n",
       "      <td>0.041713</td>\n",
       "      <td>1.199658</td>\n",
       "      <td>3.660446</td>\n",
       "      <td>3.392275</td>\n",
       "      <td>0.776864</td>\n",
       "      <td>1.038546</td>\n",
       "      <td>0.71997</td>\n",
       "      <td>149.930598</td>\n",
       "      <td>0.163092</td>\n",
       "      <td>1</td>\n",
       "    </tr>\n",
       "    <tr>\n",
       "      <th>4747</th>\n",
       "      <td>1.943068</td>\n",
       "      <td>10</td>\n",
       "      <td>7</td>\n",
       "      <td>0.09677</td>\n",
       "      <td>0.000000</td>\n",
       "      <td>0.026424</td>\n",
       "      <td>-0.119504</td>\n",
       "      <td>1.187840</td>\n",
       "      <td>3.694801</td>\n",
       "      <td>3.205736</td>\n",
       "      <td>0.890444</td>\n",
       "      <td>0.687394</td>\n",
       "      <td>0.96624</td>\n",
       "      <td>158.267553</td>\n",
       "      <td>0.000000</td>\n",
       "      <td>1</td>\n",
       "    </tr>\n",
       "    <tr>\n",
       "      <th>4748</th>\n",
       "      <td>2.036098</td>\n",
       "      <td>15</td>\n",
       "      <td>0</td>\n",
       "      <td>0.01471</td>\n",
       "      <td>0.000000</td>\n",
       "      <td>0.027639</td>\n",
       "      <td>-0.157788</td>\n",
       "      <td>1.299590</td>\n",
       "      <td>3.852331</td>\n",
       "      <td>3.634674</td>\n",
       "      <td>0.861361</td>\n",
       "      <td>0.962708</td>\n",
       "      <td>0.98292</td>\n",
       "      <td>149.416304</td>\n",
       "      <td>0.000000</td>\n",
       "      <td>1</td>\n",
       "    </tr>\n",
       "    <tr>\n",
       "      <th>4749</th>\n",
       "      <td>2.167944</td>\n",
       "      <td>5</td>\n",
       "      <td>0</td>\n",
       "      <td>0.00000</td>\n",
       "      <td>15.201131</td>\n",
       "      <td>0.040479</td>\n",
       "      <td>-0.177642</td>\n",
       "      <td>1.043782</td>\n",
       "      <td>3.701266</td>\n",
       "      <td>3.445676</td>\n",
       "      <td>0.808000</td>\n",
       "      <td>0.912290</td>\n",
       "      <td>0.53476</td>\n",
       "      <td>148.750467</td>\n",
       "      <td>0.472562</td>\n",
       "      <td>1</td>\n",
       "    </tr>\n",
       "  </tbody>\n",
       "</table>\n",
       "<p>4750 rows × 16 columns</p>\n",
       "</div>"
      ],
      "text/plain": [
       "      SpMin1_Bhs  C2SP2  nssO  ETA_BetaP_ns_d    MDEC_24     AVP_5    MATS4v  \\\n",
       "0       2.036093     10     1         0.03571   0.000000  0.023095 -0.004576   \n",
       "1       2.155860      1     0         0.00000  19.761299  0.045320 -0.123684   \n",
       "2       2.001066     30     0         0.00000   4.897030  0.018730  0.047804   \n",
       "3       1.965794      0    10         0.00000   6.959624  0.032025 -0.108514   \n",
       "4       1.811866      1     1         0.00000   0.000000  0.022625 -0.182215   \n",
       "...          ...    ...   ...             ...        ...       ...       ...   \n",
       "4745    2.101252      1     1         0.00000  10.300696  0.049126 -0.075119   \n",
       "4746    2.145873      3     1         0.03571   4.889648  0.032815  0.041713   \n",
       "4747    1.943068     10     7         0.09677   0.000000  0.026424 -0.119504   \n",
       "4748    2.036098     15     0         0.01471   0.000000  0.027639 -0.157788   \n",
       "4749    2.167944      5     0         0.00000  15.201131  0.040479 -0.177642   \n",
       "\n",
       "        AATS6p  SpMax3_Bhi  SpMax4_Bhe    GATS2m    GATS2p  ETA_EtaP_F  \\\n",
       "0     1.413029    3.775860    3.492063  0.752719  0.773633     0.98841   \n",
       "1     1.009979    3.741990    3.500519  0.853899  0.979989     0.29894   \n",
       "2     1.604455    3.865253    3.826618  0.790574  1.034555     1.43473   \n",
       "3     0.948248    3.650220    3.587471  0.870408  1.156612     0.42979   \n",
       "4     0.802083    3.227147    3.106337  0.773252  0.823627     0.77017   \n",
       "...        ...         ...         ...       ...       ...         ...   \n",
       "4745  0.857048    3.543815    3.327318  0.906644  1.083712     0.34654   \n",
       "4746  1.199658    3.660446    3.392275  0.776864  1.038546     0.71997   \n",
       "4747  1.187840    3.694801    3.205736  0.890444  0.687394     0.96624   \n",
       "4748  1.299590    3.852331    3.634674  0.861361  0.962708     0.98292   \n",
       "4749  1.043782    3.701266    3.445676  0.808000  0.912290     0.53476   \n",
       "\n",
       "          AATS2i      VC_6  Lable(exp.)  \n",
       "0     152.992905  0.000000           -1  \n",
       "1     150.066076  0.608102           -1  \n",
       "2     149.285725  0.038891           -1  \n",
       "3     154.429781  0.077245           -1  \n",
       "4     164.701153  0.000000           -1  \n",
       "...          ...       ...          ...  \n",
       "4745  152.032762  0.178324            1  \n",
       "4746  149.930598  0.163092            1  \n",
       "4747  158.267553  0.000000            1  \n",
       "4748  149.416304  0.000000            1  \n",
       "4749  148.750467  0.472562            1  \n",
       "\n",
       "[4750 rows x 16 columns]"
      ]
     },
     "execution_count": 3,
     "metadata": {},
     "output_type": "execute_result"
    }
   ],
   "source": [
    "dataset=data.drop(['No.','Status', 'Lable(SVM)', 'Lable(GRNN)', 'Name', 'Name' ], axis=1)\n",
    "dataset"
   ]
  },
  {
   "cell_type": "code",
   "execution_count": 4,
   "metadata": {},
   "outputs": [],
   "source": [
    "x = dataset.drop(['Lable(exp.)'],axis=1)\n",
    "y = dataset['Lable(exp.)']"
   ]
  },
  {
   "cell_type": "code",
   "execution_count": 5,
   "metadata": {},
   "outputs": [
    {
     "data": {
      "text/html": [
       "<div>\n",
       "<style scoped>\n",
       "    .dataframe tbody tr th:only-of-type {\n",
       "        vertical-align: middle;\n",
       "    }\n",
       "\n",
       "    .dataframe tbody tr th {\n",
       "        vertical-align: top;\n",
       "    }\n",
       "\n",
       "    .dataframe thead th {\n",
       "        text-align: right;\n",
       "    }\n",
       "</style>\n",
       "<table border=\"1\" class=\"dataframe\">\n",
       "  <thead>\n",
       "    <tr style=\"text-align: right;\">\n",
       "      <th></th>\n",
       "      <th>SpMin1_Bhs</th>\n",
       "      <th>C2SP2</th>\n",
       "      <th>nssO</th>\n",
       "      <th>ETA_BetaP_ns_d</th>\n",
       "      <th>MDEC_24</th>\n",
       "      <th>AVP_5</th>\n",
       "      <th>MATS4v</th>\n",
       "      <th>AATS6p</th>\n",
       "      <th>SpMax3_Bhi</th>\n",
       "      <th>SpMax4_Bhe</th>\n",
       "      <th>GATS2m</th>\n",
       "      <th>GATS2p</th>\n",
       "      <th>ETA_EtaP_F</th>\n",
       "      <th>AATS2i</th>\n",
       "      <th>VC_6</th>\n",
       "    </tr>\n",
       "  </thead>\n",
       "  <tbody>\n",
       "    <tr>\n",
       "      <th>0</th>\n",
       "      <td>2.036093</td>\n",
       "      <td>10</td>\n",
       "      <td>1</td>\n",
       "      <td>0.03571</td>\n",
       "      <td>0.000000</td>\n",
       "      <td>0.023095</td>\n",
       "      <td>-0.004576</td>\n",
       "      <td>1.413029</td>\n",
       "      <td>3.775860</td>\n",
       "      <td>3.492063</td>\n",
       "      <td>0.752719</td>\n",
       "      <td>0.773633</td>\n",
       "      <td>0.98841</td>\n",
       "      <td>152.992905</td>\n",
       "      <td>0.000000</td>\n",
       "    </tr>\n",
       "    <tr>\n",
       "      <th>1</th>\n",
       "      <td>2.155860</td>\n",
       "      <td>1</td>\n",
       "      <td>0</td>\n",
       "      <td>0.00000</td>\n",
       "      <td>19.761299</td>\n",
       "      <td>0.045320</td>\n",
       "      <td>-0.123684</td>\n",
       "      <td>1.009979</td>\n",
       "      <td>3.741990</td>\n",
       "      <td>3.500519</td>\n",
       "      <td>0.853899</td>\n",
       "      <td>0.979989</td>\n",
       "      <td>0.29894</td>\n",
       "      <td>150.066076</td>\n",
       "      <td>0.608102</td>\n",
       "    </tr>\n",
       "    <tr>\n",
       "      <th>2</th>\n",
       "      <td>2.001066</td>\n",
       "      <td>30</td>\n",
       "      <td>0</td>\n",
       "      <td>0.00000</td>\n",
       "      <td>4.897030</td>\n",
       "      <td>0.018730</td>\n",
       "      <td>0.047804</td>\n",
       "      <td>1.604455</td>\n",
       "      <td>3.865253</td>\n",
       "      <td>3.826618</td>\n",
       "      <td>0.790574</td>\n",
       "      <td>1.034555</td>\n",
       "      <td>1.43473</td>\n",
       "      <td>149.285725</td>\n",
       "      <td>0.038891</td>\n",
       "    </tr>\n",
       "    <tr>\n",
       "      <th>3</th>\n",
       "      <td>1.965794</td>\n",
       "      <td>0</td>\n",
       "      <td>10</td>\n",
       "      <td>0.00000</td>\n",
       "      <td>6.959624</td>\n",
       "      <td>0.032025</td>\n",
       "      <td>-0.108514</td>\n",
       "      <td>0.948248</td>\n",
       "      <td>3.650220</td>\n",
       "      <td>3.587471</td>\n",
       "      <td>0.870408</td>\n",
       "      <td>1.156612</td>\n",
       "      <td>0.42979</td>\n",
       "      <td>154.429781</td>\n",
       "      <td>0.077245</td>\n",
       "    </tr>\n",
       "    <tr>\n",
       "      <th>4</th>\n",
       "      <td>1.811866</td>\n",
       "      <td>1</td>\n",
       "      <td>1</td>\n",
       "      <td>0.00000</td>\n",
       "      <td>0.000000</td>\n",
       "      <td>0.022625</td>\n",
       "      <td>-0.182215</td>\n",
       "      <td>0.802083</td>\n",
       "      <td>3.227147</td>\n",
       "      <td>3.106337</td>\n",
       "      <td>0.773252</td>\n",
       "      <td>0.823627</td>\n",
       "      <td>0.77017</td>\n",
       "      <td>164.701153</td>\n",
       "      <td>0.000000</td>\n",
       "    </tr>\n",
       "  </tbody>\n",
       "</table>\n",
       "</div>"
      ],
      "text/plain": [
       "   SpMin1_Bhs  C2SP2  nssO  ETA_BetaP_ns_d    MDEC_24     AVP_5    MATS4v  \\\n",
       "0    2.036093     10     1         0.03571   0.000000  0.023095 -0.004576   \n",
       "1    2.155860      1     0         0.00000  19.761299  0.045320 -0.123684   \n",
       "2    2.001066     30     0         0.00000   4.897030  0.018730  0.047804   \n",
       "3    1.965794      0    10         0.00000   6.959624  0.032025 -0.108514   \n",
       "4    1.811866      1     1         0.00000   0.000000  0.022625 -0.182215   \n",
       "\n",
       "     AATS6p  SpMax3_Bhi  SpMax4_Bhe    GATS2m    GATS2p  ETA_EtaP_F  \\\n",
       "0  1.413029    3.775860    3.492063  0.752719  0.773633     0.98841   \n",
       "1  1.009979    3.741990    3.500519  0.853899  0.979989     0.29894   \n",
       "2  1.604455    3.865253    3.826618  0.790574  1.034555     1.43473   \n",
       "3  0.948248    3.650220    3.587471  0.870408  1.156612     0.42979   \n",
       "4  0.802083    3.227147    3.106337  0.773252  0.823627     0.77017   \n",
       "\n",
       "       AATS2i      VC_6  \n",
       "0  152.992905  0.000000  \n",
       "1  150.066076  0.608102  \n",
       "2  149.285725  0.038891  \n",
       "3  154.429781  0.077245  \n",
       "4  164.701153  0.000000  "
      ]
     },
     "execution_count": 5,
     "metadata": {},
     "output_type": "execute_result"
    }
   ],
   "source": [
    "x.head()"
   ]
  },
  {
   "cell_type": "code",
   "execution_count": 6,
   "metadata": {},
   "outputs": [
    {
     "data": {
      "text/plain": [
       "0   -1\n",
       "1   -1\n",
       "2   -1\n",
       "3   -1\n",
       "4   -1\n",
       "Name: Lable(exp.), dtype: int64"
      ]
     },
     "execution_count": 6,
     "metadata": {},
     "output_type": "execute_result"
    }
   ],
   "source": [
    "y.head()"
   ]
  },
  {
   "cell_type": "markdown",
   "metadata": {},
   "source": [
    "# spliting the data into testing and training dataset and view the shape"
   ]
  },
  {
   "cell_type": "code",
   "execution_count": 7,
   "metadata": {},
   "outputs": [
    {
     "name": "stdout",
     "output_type": "stream",
     "text": [
      "Train (3182, 15) (3182,)\n",
      "Test (1568, 15) (1568,)\n"
     ]
    }
   ],
   "source": [
    "X_train, X_test, y_train, y_test = train_test_split(x, y, test_size=0.33, random_state=1)\n",
    "print('Train', X_train.shape, y_train.shape)\n",
    "print('Test', X_test.shape, y_test.shape)"
   ]
  },
  {
   "cell_type": "markdown",
   "metadata": {},
   "source": [
    "# ANOVA F-statistic feature selection and summarizing the selected features"
   ]
  },
  {
   "cell_type": "code",
   "execution_count": 8,
   "metadata": {},
   "outputs": [],
   "source": [
    "fs = SelectKBest(score_func=f_classif, k='all')\n",
    "fs.fit(X_train, y_train)\n",
    "X_train_fs = fs.transform(X_train)\n",
    "X_test_fs = fs.transform(X_test)"
   ]
  },
  {
   "cell_type": "markdown",
   "metadata": {},
   "source": [
    "# A bar chart of the feature importance scores for each input feature is created"
   ]
  },
  {
   "cell_type": "markdown",
   "metadata": {},
   "source": [
    "prints the scores calculated for each input feature and the target\n",
    "variable."
   ]
  },
  {
   "cell_type": "code",
   "execution_count": 9,
   "metadata": {},
   "outputs": [
    {
     "name": "stdout",
     "output_type": "stream",
     "text": [
      "Feature 0: 22.763176\n",
      "Feature 1: 1.762266\n",
      "Feature 2: 21.039843\n",
      "Feature 3: 54.158877\n",
      "Feature 4: 8.428625\n",
      "Feature 5: 3.099027\n",
      "Feature 6: 9.403671\n",
      "Feature 7: 1.558059\n",
      "Feature 8: 102.598389\n",
      "Feature 9: 97.616019\n",
      "Feature 10: 89.999513\n",
      "Feature 11: 13.263082\n",
      "Feature 12: 1.036146\n",
      "Feature 13: 99.562274\n",
      "Feature 14: 4.734798\n"
     ]
    },
    {
     "data": {
      "image/png": "[encoded data removed]",
      "text/plain": [
       "<Figure size 432x288 with 1 Axes>"
      ]
     },
     "metadata": {
      "needs_background": "light"
     },
     "output_type": "display_data"
    }
   ],
   "source": [
    "for i in range(len(fs.scores_)):\n",
    "    print('Feature %d: %f' % (i, fs.scores_[i]))\n",
    "plt.bar([i for i in range(len(fs.scores_))], fs.scores_)\n",
    "plt.show()"
   ]
  },
  {
   "cell_type": "code",
   "execution_count": 10,
   "metadata": {},
   "outputs": [
    {
     "data": {
      "image/png": "[encoded data removed]",
      "text/plain": [
       "<Figure size 720x720 with 2 Axes>"
      ]
     },
     "metadata": {
      "needs_background": "light"
     },
     "output_type": "display_data"
    }
   ],
   "source": [
    "f,ax=plt.subplots(figsize=(10,10))\n",
    "sns.heatmap(dataset.corr(),annot=True,linewidths=0.5,linecolor=\"black\",fmt=\".1f\",ax=ax)\n",
    "plt.show()"
   ]
  },
  {
   "cell_type": "code",
   "execution_count": 11,
   "metadata": {},
   "outputs": [
    {
     "data": {
      "text/plain": [
       "SpMin1_Bhs        0.0\n",
       "C2SP2             0.0\n",
       "nssO              0.0\n",
       "ETA_BetaP_ns_d    0.0\n",
       "MDEC_24           0.0\n",
       "AVP_5             0.0\n",
       "MATS4v            0.0\n",
       "AATS6p            0.0\n",
       "SpMax3_Bhi        0.0\n",
       "SpMax4_Bhe        0.0\n",
       "GATS2m            0.0\n",
       "GATS2p            0.0\n",
       "ETA_EtaP_F        0.0\n",
       "AATS2i            0.0\n",
       "VC_6              0.0\n",
       "dtype: float64"
      ]
     },
     "execution_count": 11,
     "metadata": {},
     "output_type": "execute_result"
    }
   ],
   "source": [
    "x.isnull().sum()/x.shape[0]"
   ]
  },
  {
   "cell_type": "code",
   "execution_count": 12,
   "metadata": {},
   "outputs": [
    {
     "data": {
      "text/plain": [
       "0.0"
      ]
     },
     "execution_count": 12,
     "metadata": {},
     "output_type": "execute_result"
    }
   ],
   "source": [
    "y.isnull().sum()/y.shape[0]"
   ]
  },
  {
   "cell_type": "markdown",
   "metadata": {},
   "source": [
    "# Support vector machine algorithm with complete dataset"
   ]
  },
  {
   "cell_type": "code",
   "execution_count": 13,
   "metadata": {},
   "outputs": [
    {
     "data": {
      "text/plain": [
       "56.951530612244895"
      ]
     },
     "execution_count": 13,
     "metadata": {},
     "output_type": "execute_result"
    }
   ],
   "source": [
    "from sklearn import svm\n",
    "model = svm.SVC()\n",
    "model.fit(X_train, y_train)\n",
    "prediction = model.predict(X_test)\n",
    "model.score(X_test, y_test)*100"
   ]
  },
  {
   "cell_type": "code",
   "execution_count": 14,
   "metadata": {},
   "outputs": [
    {
     "data": {
      "text/html": [
       "<div>\n",
       "<style scoped>\n",
       "    .dataframe tbody tr th:only-of-type {\n",
       "        vertical-align: middle;\n",
       "    }\n",
       "\n",
       "    .dataframe tbody tr th {\n",
       "        vertical-align: top;\n",
       "    }\n",
       "\n",
       "    .dataframe thead th {\n",
       "        text-align: right;\n",
       "    }\n",
       "</style>\n",
       "<table border=\"1\" class=\"dataframe\">\n",
       "  <thead>\n",
       "    <tr style=\"text-align: right;\">\n",
       "      <th></th>\n",
       "      <th>SpMin1_Bhs</th>\n",
       "      <th>C2SP2</th>\n",
       "      <th>nssO</th>\n",
       "      <th>ETA_BetaP_ns_d</th>\n",
       "      <th>MDEC_24</th>\n",
       "      <th>AVP_5</th>\n",
       "      <th>MATS4v</th>\n",
       "      <th>AATS6p</th>\n",
       "      <th>SpMax3_Bhi</th>\n",
       "      <th>SpMax4_Bhe</th>\n",
       "      <th>GATS2m</th>\n",
       "      <th>GATS2p</th>\n",
       "      <th>ETA_EtaP_F</th>\n",
       "      <th>AATS2i</th>\n",
       "      <th>VC_6</th>\n",
       "    </tr>\n",
       "  </thead>\n",
       "  <tbody>\n",
       "    <tr>\n",
       "      <th>1047</th>\n",
       "      <td>2.114628</td>\n",
       "      <td>8</td>\n",
       "      <td>2</td>\n",
       "      <td>0.01563</td>\n",
       "      <td>7.429665</td>\n",
       "      <td>0.040639</td>\n",
       "      <td>-0.193882</td>\n",
       "      <td>1.104559</td>\n",
       "      <td>3.800533</td>\n",
       "      <td>3.600914</td>\n",
       "      <td>0.856488</td>\n",
       "      <td>0.980224</td>\n",
       "      <td>0.73839</td>\n",
       "      <td>151.146799</td>\n",
       "      <td>0.195602</td>\n",
       "    </tr>\n",
       "    <tr>\n",
       "      <th>1690</th>\n",
       "      <td>1.962835</td>\n",
       "      <td>14</td>\n",
       "      <td>0</td>\n",
       "      <td>0.02632</td>\n",
       "      <td>0.000000</td>\n",
       "      <td>0.021729</td>\n",
       "      <td>-0.020708</td>\n",
       "      <td>1.431850</td>\n",
       "      <td>3.502395</td>\n",
       "      <td>3.123881</td>\n",
       "      <td>0.815455</td>\n",
       "      <td>1.079201</td>\n",
       "      <td>1.00672</td>\n",
       "      <td>143.125179</td>\n",
       "      <td>0.000000</td>\n",
       "    </tr>\n",
       "    <tr>\n",
       "      <th>4168</th>\n",
       "      <td>1.990951</td>\n",
       "      <td>16</td>\n",
       "      <td>2</td>\n",
       "      <td>0.00000</td>\n",
       "      <td>0.000000</td>\n",
       "      <td>0.024644</td>\n",
       "      <td>-0.038883</td>\n",
       "      <td>1.343020</td>\n",
       "      <td>3.889971</td>\n",
       "      <td>3.794149</td>\n",
       "      <td>0.899226</td>\n",
       "      <td>0.863204</td>\n",
       "      <td>1.13319</td>\n",
       "      <td>154.106082</td>\n",
       "      <td>0.000000</td>\n",
       "    </tr>\n",
       "    <tr>\n",
       "      <th>267</th>\n",
       "      <td>1.806547</td>\n",
       "      <td>13</td>\n",
       "      <td>4</td>\n",
       "      <td>0.02439</td>\n",
       "      <td>1.724615</td>\n",
       "      <td>0.021345</td>\n",
       "      <td>-0.055272</td>\n",
       "      <td>1.270155</td>\n",
       "      <td>3.856112</td>\n",
       "      <td>3.756612</td>\n",
       "      <td>0.878945</td>\n",
       "      <td>1.211895</td>\n",
       "      <td>1.24536</td>\n",
       "      <td>150.739086</td>\n",
       "      <td>0.024167</td>\n",
       "    </tr>\n",
       "    <tr>\n",
       "      <th>1702</th>\n",
       "      <td>1.918496</td>\n",
       "      <td>10</td>\n",
       "      <td>0</td>\n",
       "      <td>0.00000</td>\n",
       "      <td>0.000000</td>\n",
       "      <td>0.037393</td>\n",
       "      <td>0.000697</td>\n",
       "      <td>1.440692</td>\n",
       "      <td>3.737264</td>\n",
       "      <td>3.570934</td>\n",
       "      <td>0.880513</td>\n",
       "      <td>0.871130</td>\n",
       "      <td>0.90523</td>\n",
       "      <td>153.619794</td>\n",
       "      <td>0.000000</td>\n",
       "    </tr>\n",
       "  </tbody>\n",
       "</table>\n",
       "</div>"
      ],
      "text/plain": [
       "      SpMin1_Bhs  C2SP2  nssO  ETA_BetaP_ns_d   MDEC_24     AVP_5    MATS4v  \\\n",
       "1047    2.114628      8     2         0.01563  7.429665  0.040639 -0.193882   \n",
       "1690    1.962835     14     0         0.02632  0.000000  0.021729 -0.020708   \n",
       "4168    1.990951     16     2         0.00000  0.000000  0.024644 -0.038883   \n",
       "267     1.806547     13     4         0.02439  1.724615  0.021345 -0.055272   \n",
       "1702    1.918496     10     0         0.00000  0.000000  0.037393  0.000697   \n",
       "\n",
       "        AATS6p  SpMax3_Bhi  SpMax4_Bhe    GATS2m    GATS2p  ETA_EtaP_F  \\\n",
       "1047  1.104559    3.800533    3.600914  0.856488  0.980224     0.73839   \n",
       "1690  1.431850    3.502395    3.123881  0.815455  1.079201     1.00672   \n",
       "4168  1.343020    3.889971    3.794149  0.899226  0.863204     1.13319   \n",
       "267   1.270155    3.856112    3.756612  0.878945  1.211895     1.24536   \n",
       "1702  1.440692    3.737264    3.570934  0.880513  0.871130     0.90523   \n",
       "\n",
       "          AATS2i      VC_6  \n",
       "1047  151.146799  0.195602  \n",
       "1690  143.125179  0.000000  \n",
       "4168  154.106082  0.000000  \n",
       "267   150.739086  0.024167  \n",
       "1702  153.619794  0.000000  "
      ]
     },
     "execution_count": 14,
     "metadata": {},
     "output_type": "execute_result"
    }
   ],
   "source": [
    "X_train.head()"
   ]
  },
  {
   "cell_type": "code",
   "execution_count": 15,
   "metadata": {},
   "outputs": [],
   "source": [
    "new_X_train = X_train.drop(['C2SP2', 'AVP_5', 'AATS6p','ETA_EtaP_F'], axis=1)\n",
    "new_X_test = X_test.drop(['C2SP2', 'AVP_5', 'AATS6p','ETA_EtaP_F'], axis=1)"
   ]
  },
  {
   "cell_type": "code",
   "execution_count": 16,
   "metadata": {},
   "outputs": [
    {
     "data": {
      "text/html": [
       "<div>\n",
       "<style scoped>\n",
       "    .dataframe tbody tr th:only-of-type {\n",
       "        vertical-align: middle;\n",
       "    }\n",
       "\n",
       "    .dataframe tbody tr th {\n",
       "        vertical-align: top;\n",
       "    }\n",
       "\n",
       "    .dataframe thead th {\n",
       "        text-align: right;\n",
       "    }\n",
       "</style>\n",
       "<table border=\"1\" class=\"dataframe\">\n",
       "  <thead>\n",
       "    <tr style=\"text-align: right;\">\n",
       "      <th></th>\n",
       "      <th>SpMin1_Bhs</th>\n",
       "      <th>nssO</th>\n",
       "      <th>ETA_BetaP_ns_d</th>\n",
       "      <th>MDEC_24</th>\n",
       "      <th>MATS4v</th>\n",
       "      <th>SpMax3_Bhi</th>\n",
       "      <th>SpMax4_Bhe</th>\n",
       "      <th>GATS2m</th>\n",
       "      <th>GATS2p</th>\n",
       "      <th>AATS2i</th>\n",
       "      <th>VC_6</th>\n",
       "    </tr>\n",
       "  </thead>\n",
       "  <tbody>\n",
       "    <tr>\n",
       "      <th>1047</th>\n",
       "      <td>2.114628</td>\n",
       "      <td>2</td>\n",
       "      <td>0.01563</td>\n",
       "      <td>7.429665</td>\n",
       "      <td>-0.193882</td>\n",
       "      <td>3.800533</td>\n",
       "      <td>3.600914</td>\n",
       "      <td>0.856488</td>\n",
       "      <td>0.980224</td>\n",
       "      <td>151.146799</td>\n",
       "      <td>0.195602</td>\n",
       "    </tr>\n",
       "    <tr>\n",
       "      <th>1690</th>\n",
       "      <td>1.962835</td>\n",
       "      <td>0</td>\n",
       "      <td>0.02632</td>\n",
       "      <td>0.000000</td>\n",
       "      <td>-0.020708</td>\n",
       "      <td>3.502395</td>\n",
       "      <td>3.123881</td>\n",
       "      <td>0.815455</td>\n",
       "      <td>1.079201</td>\n",
       "      <td>143.125179</td>\n",
       "      <td>0.000000</td>\n",
       "    </tr>\n",
       "    <tr>\n",
       "      <th>4168</th>\n",
       "      <td>1.990951</td>\n",
       "      <td>2</td>\n",
       "      <td>0.00000</td>\n",
       "      <td>0.000000</td>\n",
       "      <td>-0.038883</td>\n",
       "      <td>3.889971</td>\n",
       "      <td>3.794149</td>\n",
       "      <td>0.899226</td>\n",
       "      <td>0.863204</td>\n",
       "      <td>154.106082</td>\n",
       "      <td>0.000000</td>\n",
       "    </tr>\n",
       "    <tr>\n",
       "      <th>267</th>\n",
       "      <td>1.806547</td>\n",
       "      <td>4</td>\n",
       "      <td>0.02439</td>\n",
       "      <td>1.724615</td>\n",
       "      <td>-0.055272</td>\n",
       "      <td>3.856112</td>\n",
       "      <td>3.756612</td>\n",
       "      <td>0.878945</td>\n",
       "      <td>1.211895</td>\n",
       "      <td>150.739086</td>\n",
       "      <td>0.024167</td>\n",
       "    </tr>\n",
       "    <tr>\n",
       "      <th>1702</th>\n",
       "      <td>1.918496</td>\n",
       "      <td>0</td>\n",
       "      <td>0.00000</td>\n",
       "      <td>0.000000</td>\n",
       "      <td>0.000697</td>\n",
       "      <td>3.737264</td>\n",
       "      <td>3.570934</td>\n",
       "      <td>0.880513</td>\n",
       "      <td>0.871130</td>\n",
       "      <td>153.619794</td>\n",
       "      <td>0.000000</td>\n",
       "    </tr>\n",
       "  </tbody>\n",
       "</table>\n",
       "</div>"
      ],
      "text/plain": [
       "      SpMin1_Bhs  nssO  ETA_BetaP_ns_d   MDEC_24    MATS4v  SpMax3_Bhi  \\\n",
       "1047    2.114628     2         0.01563  7.429665 -0.193882    3.800533   \n",
       "1690    1.962835     0         0.02632  0.000000 -0.020708    3.502395   \n",
       "4168    1.990951     2         0.00000  0.000000 -0.038883    3.889971   \n",
       "267     1.806547     4         0.02439  1.724615 -0.055272    3.856112   \n",
       "1702    1.918496     0         0.00000  0.000000  0.000697    3.737264   \n",
       "\n",
       "      SpMax4_Bhe    GATS2m    GATS2p      AATS2i      VC_6  \n",
       "1047    3.600914  0.856488  0.980224  151.146799  0.195602  \n",
       "1690    3.123881  0.815455  1.079201  143.125179  0.000000  \n",
       "4168    3.794149  0.899226  0.863204  154.106082  0.000000  \n",
       "267     3.756612  0.878945  1.211895  150.739086  0.024167  \n",
       "1702    3.570934  0.880513  0.871130  153.619794  0.000000  "
      ]
     },
     "execution_count": 16,
     "metadata": {},
     "output_type": "execute_result"
    }
   ],
   "source": [
    "new_X_train.head()"
   ]
  },
  {
   "cell_type": "code",
   "execution_count": 17,
   "metadata": {},
   "outputs": [
    {
     "data": {
      "text/plain": [
       "56.951530612244895"
      ]
     },
     "execution_count": 17,
     "metadata": {},
     "output_type": "execute_result"
    }
   ],
   "source": [
    "model2 = svm.SVC()\n",
    "model2.fit(new_X_train, y_train)\n",
    "prediction = model2.predict(new_X_test)\n",
    "model2.score(new_X_test, y_test)*100"
   ]
  },
  {
   "cell_type": "markdown",
   "metadata": {},
   "source": [
    "# Logistic Regression Model"
   ]
  },
  {
   "cell_type": "code",
   "execution_count": 18,
   "metadata": {},
   "outputs": [
    {
     "name": "stderr",
     "output_type": "stream",
     "text": [
      "E:\\Anaconda3\\lib\\site-packages\\sklearn\\linear_model\\_logistic.py:762: ConvergenceWarning: lbfgs failed to converge (status=1):\n",
      "STOP: TOTAL NO. of ITERATIONS REACHED LIMIT.\n",
      "\n",
      "Increase the number of iterations (max_iter) or scale the data as shown in:\n",
      "    https://scikit-learn.org/stable/modules/preprocessing.html\n",
      "Please also refer to the documentation for alternative solver options:\n",
      "    https://scikit-learn.org/stable/modules/linear_model.html#logistic-regression\n",
      "  n_iter_i = _check_optimize_result(\n"
     ]
    },
    {
     "data": {
      "text/plain": [
       "66.07142857142857"
      ]
     },
     "execution_count": 18,
     "metadata": {},
     "output_type": "execute_result"
    }
   ],
   "source": [
    "from sklearn.linear_model import LogisticRegression\n",
    "model3 = LogisticRegression()\n",
    "model3.fit(X_train, y_train)\n",
    "prediction = model3.predict(X_test)\n",
    "model3.score(X_test, y_test)*100"
   ]
  },
  {
   "cell_type": "code",
   "execution_count": 19,
   "metadata": {},
   "outputs": [
    {
     "name": "stderr",
     "output_type": "stream",
     "text": [
      "E:\\Anaconda3\\lib\\site-packages\\sklearn\\linear_model\\_logistic.py:762: ConvergenceWarning: lbfgs failed to converge (status=1):\n",
      "STOP: TOTAL NO. of ITERATIONS REACHED LIMIT.\n",
      "\n",
      "Increase the number of iterations (max_iter) or scale the data as shown in:\n",
      "    https://scikit-learn.org/stable/modules/preprocessing.html\n",
      "Please also refer to the documentation for alternative solver options:\n",
      "    https://scikit-learn.org/stable/modules/linear_model.html#logistic-regression\n",
      "  n_iter_i = _check_optimize_result(\n"
     ]
    },
    {
     "data": {
      "text/plain": [
       "61.224489795918366"
      ]
     },
     "execution_count": 19,
     "metadata": {},
     "output_type": "execute_result"
    }
   ],
   "source": [
    "model4 = LogisticRegression()\n",
    "model4.fit(new_X_train, y_train)\n",
    "prediction = model4.predict(new_X_test)\n",
    "model4.score(new_X_test, y_test)*100"
   ]
  },
  {
   "cell_type": "code",
   "execution_count": 20,
   "metadata": {},
   "outputs": [],
   "source": [
    "from sklearn.tree import DecisionTreeClassifier\n",
    "from sklearn.ensemble import RandomForestClassifier"
   ]
  },
  {
   "cell_type": "markdown",
   "metadata": {},
   "source": [
    "# Decision tree classifier"
   ]
  },
  {
   "cell_type": "code",
   "execution_count": 21,
   "metadata": {},
   "outputs": [
    {
     "data": {
      "text/plain": [
       "70.1530612244898"
      ]
     },
     "execution_count": 21,
     "metadata": {},
     "output_type": "execute_result"
    }
   ],
   "source": [
    "dt_model = DecisionTreeClassifier()\n",
    "dt_model.fit(X_train, y_train)\n",
    "prediction = dt_model.predict(X_test)\n",
    "dt_model.score(X_test, y_test)*100"
   ]
  },
  {
   "cell_type": "markdown",
   "metadata": {},
   "source": [
    "# support vector machine"
   ]
  },
  {
   "cell_type": "code",
   "execution_count": 22,
   "metadata": {},
   "outputs": [
    {
     "data": {
      "text/plain": [
       "56.951530612244895"
      ]
     },
     "execution_count": 22,
     "metadata": {},
     "output_type": "execute_result"
    }
   ],
   "source": [
    "model5 = svm.SVC()\n",
    "model5.fit(X_train, y_train)\n",
    "prediction = model5.predict(X_test)\n",
    "model5.score(X_test, y_test)*100"
   ]
  },
  {
   "cell_type": "markdown",
   "metadata": {},
   "source": [
    "# Random forest classifier"
   ]
  },
  {
   "cell_type": "code",
   "execution_count": 23,
   "metadata": {},
   "outputs": [
    {
     "data": {
      "text/plain": [
       "79.33673469387756"
      ]
     },
     "execution_count": 23,
     "metadata": {},
     "output_type": "execute_result"
    }
   ],
   "source": [
    "randfForest = RandomForestClassifier()\n",
    "randfForest.fit(X_train, y_train)\n",
    "prediction = randfForest.predict(X_test)\n",
    "randfForest.score(X_test, y_test)*100"
   ]
  },
  {
   "cell_type": "markdown",
   "metadata": {},
   "source": [
    "# Naive Bayes"
   ]
  },
  {
   "cell_type": "code",
   "execution_count": 24,
   "metadata": {},
   "outputs": [
    {
     "data": {
      "text/plain": [
       "61.60714285714286"
      ]
     },
     "execution_count": 24,
     "metadata": {},
     "output_type": "execute_result"
    }
   ],
   "source": [
    "from sklearn.naive_bayes import GaussianNB\n",
    "gau_classifier = GaussianNB()\n",
    "gau_classifier.fit(X_train, y_train)\n",
    "pre = gau_classifier.predict(X_test)\n",
    "gau_classifier.score(X_test, y_test)*100"
   ]
  },
  {
   "cell_type": "markdown",
   "metadata": {},
   "source": [
    "# KNN"
   ]
  },
  {
   "cell_type": "code",
   "execution_count": 25,
   "metadata": {},
   "outputs": [
    {
     "data": {
      "text/plain": [
       "72.1938775510204"
      ]
     },
     "execution_count": 25,
     "metadata": {},
     "output_type": "execute_result"
    }
   ],
   "source": [
    "from sklearn.neighbors import KNeighborsClassifier\n",
    "knn_claasifier = KNeighborsClassifier(n_neighbors=3)\n",
    "knn_claasifier.fit(X_train, y_train)\n",
    "pred = knn_claasifier.predict(X_test)\n",
    "knn_claasifier.score(X_test, y_test)*100"
   ]
  },
  {
   "cell_type": "code",
   "execution_count": 26,
   "metadata": {},
   "outputs": [
    {
     "data": {
      "text/html": [
       "<div>\n",
       "<style scoped>\n",
       "    .dataframe tbody tr th:only-of-type {\n",
       "        vertical-align: middle;\n",
       "    }\n",
       "\n",
       "    .dataframe tbody tr th {\n",
       "        vertical-align: top;\n",
       "    }\n",
       "\n",
       "    .dataframe thead th {\n",
       "        text-align: right;\n",
       "    }\n",
       "</style>\n",
       "<table border=\"1\" class=\"dataframe\">\n",
       "  <thead>\n",
       "    <tr style=\"text-align: right;\">\n",
       "      <th></th>\n",
       "      <th>SpMin1_Bhs</th>\n",
       "      <th>C2SP2</th>\n",
       "      <th>nssO</th>\n",
       "      <th>ETA_BetaP_ns_d</th>\n",
       "      <th>MDEC_24</th>\n",
       "      <th>AVP_5</th>\n",
       "      <th>MATS4v</th>\n",
       "      <th>AATS6p</th>\n",
       "      <th>SpMax3_Bhi</th>\n",
       "      <th>SpMax4_Bhe</th>\n",
       "      <th>GATS2m</th>\n",
       "      <th>GATS2p</th>\n",
       "      <th>ETA_EtaP_F</th>\n",
       "      <th>AATS2i</th>\n",
       "      <th>VC_6</th>\n",
       "    </tr>\n",
       "  </thead>\n",
       "  <tbody>\n",
       "    <tr>\n",
       "      <th>1047</th>\n",
       "      <td>2.114628</td>\n",
       "      <td>8</td>\n",
       "      <td>2</td>\n",
       "      <td>0.01563</td>\n",
       "      <td>7.429665</td>\n",
       "      <td>0.040639</td>\n",
       "      <td>-0.193882</td>\n",
       "      <td>1.104559</td>\n",
       "      <td>3.800533</td>\n",
       "      <td>3.600914</td>\n",
       "      <td>0.856488</td>\n",
       "      <td>0.980224</td>\n",
       "      <td>0.73839</td>\n",
       "      <td>151.146799</td>\n",
       "      <td>0.195602</td>\n",
       "    </tr>\n",
       "    <tr>\n",
       "      <th>1690</th>\n",
       "      <td>1.962835</td>\n",
       "      <td>14</td>\n",
       "      <td>0</td>\n",
       "      <td>0.02632</td>\n",
       "      <td>0.000000</td>\n",
       "      <td>0.021729</td>\n",
       "      <td>-0.020708</td>\n",
       "      <td>1.431850</td>\n",
       "      <td>3.502395</td>\n",
       "      <td>3.123881</td>\n",
       "      <td>0.815455</td>\n",
       "      <td>1.079201</td>\n",
       "      <td>1.00672</td>\n",
       "      <td>143.125179</td>\n",
       "      <td>0.000000</td>\n",
       "    </tr>\n",
       "    <tr>\n",
       "      <th>4168</th>\n",
       "      <td>1.990951</td>\n",
       "      <td>16</td>\n",
       "      <td>2</td>\n",
       "      <td>0.00000</td>\n",
       "      <td>0.000000</td>\n",
       "      <td>0.024644</td>\n",
       "      <td>-0.038883</td>\n",
       "      <td>1.343020</td>\n",
       "      <td>3.889971</td>\n",
       "      <td>3.794149</td>\n",
       "      <td>0.899226</td>\n",
       "      <td>0.863204</td>\n",
       "      <td>1.13319</td>\n",
       "      <td>154.106082</td>\n",
       "      <td>0.000000</td>\n",
       "    </tr>\n",
       "    <tr>\n",
       "      <th>267</th>\n",
       "      <td>1.806547</td>\n",
       "      <td>13</td>\n",
       "      <td>4</td>\n",
       "      <td>0.02439</td>\n",
       "      <td>1.724615</td>\n",
       "      <td>0.021345</td>\n",
       "      <td>-0.055272</td>\n",
       "      <td>1.270155</td>\n",
       "      <td>3.856112</td>\n",
       "      <td>3.756612</td>\n",
       "      <td>0.878945</td>\n",
       "      <td>1.211895</td>\n",
       "      <td>1.24536</td>\n",
       "      <td>150.739086</td>\n",
       "      <td>0.024167</td>\n",
       "    </tr>\n",
       "    <tr>\n",
       "      <th>1702</th>\n",
       "      <td>1.918496</td>\n",
       "      <td>10</td>\n",
       "      <td>0</td>\n",
       "      <td>0.00000</td>\n",
       "      <td>0.000000</td>\n",
       "      <td>0.037393</td>\n",
       "      <td>0.000697</td>\n",
       "      <td>1.440692</td>\n",
       "      <td>3.737264</td>\n",
       "      <td>3.570934</td>\n",
       "      <td>0.880513</td>\n",
       "      <td>0.871130</td>\n",
       "      <td>0.90523</td>\n",
       "      <td>153.619794</td>\n",
       "      <td>0.000000</td>\n",
       "    </tr>\n",
       "    <tr>\n",
       "      <th>...</th>\n",
       "      <td>...</td>\n",
       "      <td>...</td>\n",
       "      <td>...</td>\n",
       "      <td>...</td>\n",
       "      <td>...</td>\n",
       "      <td>...</td>\n",
       "      <td>...</td>\n",
       "      <td>...</td>\n",
       "      <td>...</td>\n",
       "      <td>...</td>\n",
       "      <td>...</td>\n",
       "      <td>...</td>\n",
       "      <td>...</td>\n",
       "      <td>...</td>\n",
       "      <td>...</td>\n",
       "    </tr>\n",
       "    <tr>\n",
       "      <th>2895</th>\n",
       "      <td>1.864863</td>\n",
       "      <td>10</td>\n",
       "      <td>0</td>\n",
       "      <td>0.03704</td>\n",
       "      <td>1.809497</td>\n",
       "      <td>0.023390</td>\n",
       "      <td>0.125028</td>\n",
       "      <td>1.253555</td>\n",
       "      <td>3.685371</td>\n",
       "      <td>3.413550</td>\n",
       "      <td>0.694390</td>\n",
       "      <td>1.061879</td>\n",
       "      <td>1.05488</td>\n",
       "      <td>160.467150</td>\n",
       "      <td>0.004500</td>\n",
       "    </tr>\n",
       "    <tr>\n",
       "      <th>2763</th>\n",
       "      <td>2.072120</td>\n",
       "      <td>0</td>\n",
       "      <td>2</td>\n",
       "      <td>0.00000</td>\n",
       "      <td>6.080465</td>\n",
       "      <td>0.053687</td>\n",
       "      <td>-0.170793</td>\n",
       "      <td>1.004803</td>\n",
       "      <td>3.631310</td>\n",
       "      <td>3.504331</td>\n",
       "      <td>0.917727</td>\n",
       "      <td>1.195702</td>\n",
       "      <td>0.34063</td>\n",
       "      <td>152.143088</td>\n",
       "      <td>0.092698</td>\n",
       "    </tr>\n",
       "    <tr>\n",
       "      <th>905</th>\n",
       "      <td>1.701424</td>\n",
       "      <td>4</td>\n",
       "      <td>0</td>\n",
       "      <td>0.02273</td>\n",
       "      <td>0.000000</td>\n",
       "      <td>0.022017</td>\n",
       "      <td>0.149017</td>\n",
       "      <td>1.314814</td>\n",
       "      <td>3.732190</td>\n",
       "      <td>3.244596</td>\n",
       "      <td>0.725000</td>\n",
       "      <td>1.159881</td>\n",
       "      <td>0.82793</td>\n",
       "      <td>157.816580</td>\n",
       "      <td>0.000000</td>\n",
       "    </tr>\n",
       "    <tr>\n",
       "      <th>3980</th>\n",
       "      <td>2.064065</td>\n",
       "      <td>12</td>\n",
       "      <td>3</td>\n",
       "      <td>0.06250</td>\n",
       "      <td>0.000000</td>\n",
       "      <td>0.026215</td>\n",
       "      <td>-0.141125</td>\n",
       "      <td>1.427658</td>\n",
       "      <td>3.593040</td>\n",
       "      <td>3.229266</td>\n",
       "      <td>0.628045</td>\n",
       "      <td>0.638087</td>\n",
       "      <td>1.08818</td>\n",
       "      <td>152.741885</td>\n",
       "      <td>0.025193</td>\n",
       "    </tr>\n",
       "    <tr>\n",
       "      <th>235</th>\n",
       "      <td>1.751270</td>\n",
       "      <td>4</td>\n",
       "      <td>2</td>\n",
       "      <td>0.00000</td>\n",
       "      <td>0.000000</td>\n",
       "      <td>0.026973</td>\n",
       "      <td>0.071243</td>\n",
       "      <td>1.169656</td>\n",
       "      <td>3.702109</td>\n",
       "      <td>3.523476</td>\n",
       "      <td>0.910191</td>\n",
       "      <td>1.165751</td>\n",
       "      <td>0.78621</td>\n",
       "      <td>161.818403</td>\n",
       "      <td>0.000000</td>\n",
       "    </tr>\n",
       "  </tbody>\n",
       "</table>\n",
       "<p>3182 rows × 15 columns</p>\n",
       "</div>"
      ],
      "text/plain": [
       "      SpMin1_Bhs  C2SP2  nssO  ETA_BetaP_ns_d   MDEC_24     AVP_5    MATS4v  \\\n",
       "1047    2.114628      8     2         0.01563  7.429665  0.040639 -0.193882   \n",
       "1690    1.962835     14     0         0.02632  0.000000  0.021729 -0.020708   \n",
       "4168    1.990951     16     2         0.00000  0.000000  0.024644 -0.038883   \n",
       "267     1.806547     13     4         0.02439  1.724615  0.021345 -0.055272   \n",
       "1702    1.918496     10     0         0.00000  0.000000  0.037393  0.000697   \n",
       "...          ...    ...   ...             ...       ...       ...       ...   \n",
       "2895    1.864863     10     0         0.03704  1.809497  0.023390  0.125028   \n",
       "2763    2.072120      0     2         0.00000  6.080465  0.053687 -0.170793   \n",
       "905     1.701424      4     0         0.02273  0.000000  0.022017  0.149017   \n",
       "3980    2.064065     12     3         0.06250  0.000000  0.026215 -0.141125   \n",
       "235     1.751270      4     2         0.00000  0.000000  0.026973  0.071243   \n",
       "\n",
       "        AATS6p  SpMax3_Bhi  SpMax4_Bhe    GATS2m    GATS2p  ETA_EtaP_F  \\\n",
       "1047  1.104559    3.800533    3.600914  0.856488  0.980224     0.73839   \n",
       "1690  1.431850    3.502395    3.123881  0.815455  1.079201     1.00672   \n",
       "4168  1.343020    3.889971    3.794149  0.899226  0.863204     1.13319   \n",
       "267   1.270155    3.856112    3.756612  0.878945  1.211895     1.24536   \n",
       "1702  1.440692    3.737264    3.570934  0.880513  0.871130     0.90523   \n",
       "...        ...         ...         ...       ...       ...         ...   \n",
       "2895  1.253555    3.685371    3.413550  0.694390  1.061879     1.05488   \n",
       "2763  1.004803    3.631310    3.504331  0.917727  1.195702     0.34063   \n",
       "905   1.314814    3.732190    3.244596  0.725000  1.159881     0.82793   \n",
       "3980  1.427658    3.593040    3.229266  0.628045  0.638087     1.08818   \n",
       "235   1.169656    3.702109    3.523476  0.910191  1.165751     0.78621   \n",
       "\n",
       "          AATS2i      VC_6  \n",
       "1047  151.146799  0.195602  \n",
       "1690  143.125179  0.000000  \n",
       "4168  154.106082  0.000000  \n",
       "267   150.739086  0.024167  \n",
       "1702  153.619794  0.000000  \n",
       "...          ...       ...  \n",
       "2895  160.467150  0.004500  \n",
       "2763  152.143088  0.092698  \n",
       "905   157.816580  0.000000  \n",
       "3980  152.741885  0.025193  \n",
       "235   161.818403  0.000000  \n",
       "\n",
       "[3182 rows x 15 columns]"
      ]
     },
     "execution_count": 26,
     "metadata": {},
     "output_type": "execute_result"
    }
   ],
   "source": [
    "X_train"
   ]
  },
  {
   "cell_type": "code",
   "execution_count": 27,
   "metadata": {},
   "outputs": [
    {
     "data": {
      "text/plain": [
       "array([-1], dtype=int64)"
      ]
     },
     "execution_count": 27,
     "metadata": {},
     "output_type": "execute_result"
    }
   ],
   "source": [
    "test_x = np.array([[2.036093,10,1,0.03571,0.000000,0.023095,-0.004576,1.413029,3.775860,3.492063,0.752719,0.773633,0.98841,152.992905,0.000000]])\n",
    "y_predict =randfForest.predict(test_x)\n",
    "   \n",
    "y_predict"
   ]
  },
  {
   "cell_type": "code",
   "execution_count": 28,
   "metadata": {},
   "outputs": [],
   "source": [
    "import pickle"
   ]
  },
  {
   "cell_type": "code",
   "execution_count": 32,
   "metadata": {},
   "outputs": [],
   "source": [
    "\"\"\"\n",
    "data = {'model': randfForest, \"SpMin1_Bhs\":SpMin1_Bhs,\n",
    "        \"C2SP2\":C2SP2,\n",
    "        \"nssO\":nssO,\n",
    "        \"ETA_BetaP_ns_d\":ETA_BetaP_ns_d,\n",
    "        \"MDEC_24\":MDEC_24,\n",
    "        'AVP_5':AVP_5,\n",
    "        \"MATS4v\":MATS4v,\n",
    "        \"AATS6p\":AATS6p,\n",
    "        \"SpMax3_Bhi\":SpMax3_Bhi,\n",
    "        \"SpMax4_Bhe\":SpMax4_Bhe,\n",
    "        \"GATS2m\":GATS2m,\n",
    "        \"GATS2p\":GATS2p,\n",
    "        \"ETA_EtaP_F\":ETA_EtaP_F,\n",
    "        \"AATS2i\":AATS2i,\n",
    "        \"VC_6\":VC_6}\"\"\"\n",
    "\n",
    "data = {'model': randfForest}\n",
    "\n",
    "with open('saved_steps.pkl', 'wb') as file:\n",
    "    pickle.dump(data, file)"
   ]
  },
  {
   "cell_type": "code",
   "execution_count": 33,
   "metadata": {},
   "outputs": [],
   "source": [
    "with open('saved_steps.pkl', 'rb') as file:\n",
    "    pickle.load(file)"
   ]
  },
  {
   "cell_type": "code",
   "execution_count": 34,
   "metadata": {},
   "outputs": [],
   "source": [
    "model_loaded = data['model']"
   ]
  },
  {
   "cell_type": "code",
   "execution_count": 35,
   "metadata": {},
   "outputs": [
    {
     "data": {
      "text/plain": [
       "array([-1], dtype=int64)"
      ]
     },
     "execution_count": 35,
     "metadata": {},
     "output_type": "execute_result"
    }
   ],
   "source": [
    "y_pred = model_loaded.predict(test_x)\n",
    "y_pred"
   ]
  },
  {
   "cell_type": "code",
   "execution_count": null,
   "metadata": {},
   "outputs": [],
   "source": []
  },
  {
   "cell_type": "code",
   "execution_count": null,
   "metadata": {},
   "outputs": [],
   "source": [
    "fig = plt.figure()\n",
    "ax = fig.add_axes([0,0,1,1])\n",
    "langs = ['C', 'C++', 'Java', 'Python', 'PHP']\n",
    "students = [23,17,35,29,12]\n",
    "ax.bar(langs,students)\n",
    "plt.show()"
   ]
  }
 ],
 "metadata": {
  "kernelspec": {
   "display_name": "Python 3",
   "language": "python",
   "name": "python3"
  },
  "language_info": {
   "codemirror_mode": {
    "name": "ipython",
    "version": 3
   },
   "file_extension": ".py",
   "mimetype": "text/x-python",
   "name": "python",
   "nbconvert_exporter": "python",
   "pygments_lexer": "ipython3",
   "version": "3.8.5"
  }
 },
 "nbformat": 4,
 "nbformat_minor": 4
}
